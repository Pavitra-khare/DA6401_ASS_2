{
  "nbformat": 4,
  "nbformat_minor": 0,
  "metadata": {
    "colab": {
      "provenance": [],
      "gpuType": "T4",
      "authorship_tag": "ABX9TyN3z7OCUwAD64iuVkh9/jN9",
      "include_colab_link": true
    },
    "kernelspec": {
      "name": "python3",
      "display_name": "Python 3"
    },
    "language_info": {
      "name": "python"
    },
    "accelerator": "GPU"
  },
  "cells": [
    {
      "cell_type": "markdown",
      "metadata": {
        "id": "view-in-github",
        "colab_type": "text"
      },
      "source": [
        "<a href=\"https://colab.research.google.com/github/Pavitra-khare/DA6401_ASS_2/blob/main/DA6401_ASS_2.ipynb\" target=\"_parent\"><img src=\"https://colab.research.google.com/assets/colab-badge.svg\" alt=\"Open In Colab\"/></a>"
      ]
    },
    {
      "cell_type": "code",
      "source": [
        "!pip install wandb"
      ],
      "metadata": {
        "colab": {
          "base_uri": "https://localhost:8080/"
        },
        "id": "SnZUoHXlpUax",
        "outputId": "d89f010b-2623-421d-b7f6-d811f625879a"
      },
      "execution_count": null,
      "outputs": [
        {
          "output_type": "stream",
          "name": "stdout",
          "text": [
            "Requirement already satisfied: wandb in /usr/local/lib/python3.11/dist-packages (0.19.8)\n",
            "Requirement already satisfied: click!=8.0.0,>=7.1 in /usr/local/lib/python3.11/dist-packages (from wandb) (8.1.8)\n",
            "Requirement already satisfied: docker-pycreds>=0.4.0 in /usr/local/lib/python3.11/dist-packages (from wandb) (0.4.0)\n",
            "Requirement already satisfied: gitpython!=3.1.29,>=1.0.0 in /usr/local/lib/python3.11/dist-packages (from wandb) (3.1.44)\n",
            "Requirement already satisfied: platformdirs in /usr/local/lib/python3.11/dist-packages (from wandb) (4.3.7)\n",
            "Requirement already satisfied: protobuf!=4.21.0,!=5.28.0,<6,>=3.19.0 in /usr/local/lib/python3.11/dist-packages (from wandb) (5.29.4)\n",
            "Requirement already satisfied: psutil>=5.0.0 in /usr/local/lib/python3.11/dist-packages (from wandb) (5.9.5)\n",
            "Requirement already satisfied: pydantic<3,>=2.6 in /usr/local/lib/python3.11/dist-packages (from wandb) (2.11.0)\n",
            "Requirement already satisfied: pyyaml in /usr/local/lib/python3.11/dist-packages (from wandb) (6.0.2)\n",
            "Requirement already satisfied: requests<3,>=2.0.0 in /usr/local/lib/python3.11/dist-packages (from wandb) (2.32.3)\n",
            "Requirement already satisfied: sentry-sdk>=2.0.0 in /usr/local/lib/python3.11/dist-packages (from wandb) (2.24.1)\n",
            "Requirement already satisfied: setproctitle in /usr/local/lib/python3.11/dist-packages (from wandb) (1.3.5)\n",
            "Requirement already satisfied: setuptools in /usr/local/lib/python3.11/dist-packages (from wandb) (75.2.0)\n",
            "Requirement already satisfied: typing-extensions<5,>=4.4 in /usr/local/lib/python3.11/dist-packages (from wandb) (4.13.0)\n",
            "Requirement already satisfied: six>=1.4.0 in /usr/local/lib/python3.11/dist-packages (from docker-pycreds>=0.4.0->wandb) (1.17.0)\n",
            "Requirement already satisfied: gitdb<5,>=4.0.1 in /usr/local/lib/python3.11/dist-packages (from gitpython!=3.1.29,>=1.0.0->wandb) (4.0.12)\n",
            "Requirement already satisfied: annotated-types>=0.6.0 in /usr/local/lib/python3.11/dist-packages (from pydantic<3,>=2.6->wandb) (0.7.0)\n",
            "Requirement already satisfied: pydantic-core==2.33.0 in /usr/local/lib/python3.11/dist-packages (from pydantic<3,>=2.6->wandb) (2.33.0)\n",
            "Requirement already satisfied: typing-inspection>=0.4.0 in /usr/local/lib/python3.11/dist-packages (from pydantic<3,>=2.6->wandb) (0.4.0)\n",
            "Requirement already satisfied: charset-normalizer<4,>=2 in /usr/local/lib/python3.11/dist-packages (from requests<3,>=2.0.0->wandb) (3.4.1)\n",
            "Requirement already satisfied: idna<4,>=2.5 in /usr/local/lib/python3.11/dist-packages (from requests<3,>=2.0.0->wandb) (3.10)\n",
            "Requirement already satisfied: urllib3<3,>=1.21.1 in /usr/local/lib/python3.11/dist-packages (from requests<3,>=2.0.0->wandb) (2.3.0)\n",
            "Requirement already satisfied: certifi>=2017.4.17 in /usr/local/lib/python3.11/dist-packages (from requests<3,>=2.0.0->wandb) (2025.1.31)\n",
            "Requirement already satisfied: smmap<6,>=3.0.1 in /usr/local/lib/python3.11/dist-packages (from gitdb<5,>=4.0.1->gitpython!=3.1.29,>=1.0.0->wandb) (5.0.2)\n"
          ]
        }
      ]
    },
    {
      "cell_type": "code",
      "execution_count": 1,
      "metadata": {
        "id": "B-APoiWspQUT"
      },
      "outputs": [],
      "source": [
        "# Import necessary libraries\n",
        "import torch\n",
        "import torchvision\n",
        "import torchvision.transforms as transforms\n",
        "from sklearn.model_selection import train_test_split\n",
        "from torch.utils.data import Subset\n",
        "import torch.nn as nn\n",
        "import torch.optim as optim\n",
        "import numpy as np\n",
        "import wandb"
      ]
    },
    {
      "cell_type": "code",
      "source": [
        "!wandb login"
      ],
      "metadata": {
        "id": "Bu45ZWZApn78",
        "colab": {
          "base_uri": "https://localhost:8080/"
        },
        "outputId": "0f967be4-25e9-45fb-b7b4-67e987636e81"
      },
      "execution_count": 1,
      "outputs": [
        {
          "output_type": "stream",
          "name": "stdout",
          "text": [
            "\u001b[34m\u001b[1mwandb\u001b[0m: Logging into wandb.ai. (Learn how to deploy a W&B server locally: https://wandb.me/wandb-server)\n",
            "\u001b[34m\u001b[1mwandb\u001b[0m: You can find your API key in your browser here: https://wandb.ai/authorize\n",
            "\u001b[34m\u001b[1mwandb\u001b[0m: Paste an API key from your profile and hit enter, or press ctrl+c to quit: \n",
            "\u001b[34m\u001b[1mwandb\u001b[0m: No netrc file found, creating one.\n",
            "\u001b[34m\u001b[1mwandb\u001b[0m: Appending key for api.wandb.ai to your netrc file: /root/.netrc\n",
            "\u001b[34m\u001b[1mwandb\u001b[0m: Currently logged in as: \u001b[33m3628-pavitrakhare\u001b[0m (\u001b[33m3628-pavitrakhare-indian-institute-of-technology-madras\u001b[0m) to \u001b[32mhttps://api.wandb.ai\u001b[0m. Use \u001b[1m`wandb login --relogin`\u001b[0m to force relogin\n"
          ]
        }
      ]
    },
    {
      "cell_type": "code",
      "source": [
        "device = torch.device(\"cuda:0\" if torch.cuda.is_available() else \"cpu\")\n",
        "print(device)"
      ],
      "metadata": {
        "colab": {
          "base_uri": "https://localhost:8080/"
        },
        "id": "XO9tx0PzcLFb",
        "outputId": "ab7d5cad-2b64-47ae-db15-82da1631b1ef"
      },
      "execution_count": 2,
      "outputs": [
        {
          "output_type": "stream",
          "name": "stdout",
          "text": [
            "cuda:0\n"
          ]
        }
      ]
    },
    {
      "cell_type": "code",
      "source": [
        "from torch.utils.data import Subset\n",
        "from sklearn.model_selection import train_test_split\n",
        "\n",
        "def split_dataset(dataset, validation_ratio=0.1):\n",
        "    \"\"\"\n",
        "    Divides a dataset into training and validation portions.\n",
        "\n",
        "    Args:\n",
        "        dataset (torch.utils.data.Dataset): Dataset to be divided.\n",
        "        validation_ratio (float): Proportion of the dataset to be used for validation. Default is 0.1.\n",
        "\n",
        "    Returns:\n",
        "        dict: Contains 'train' and 'val' datasets as Subset objects.\n",
        "    \"\"\"\n",
        "    total_samples = len(dataset)\n",
        "    indices = list(range(total_samples))\n",
        "    val_indices, train_indices = train_test_split(indices, test_size=1 - validation_ratio)\n",
        "\n",
        "    subsets = {\n",
        "        \"train\": Subset(dataset, train_indices),\n",
        "        \"val\": Subset(dataset, val_indices)\n",
        "    }\n",
        "\n",
        "    return subsets\n"
      ],
      "metadata": {
        "id": "aTpS4Ph6ckJU"
      },
      "execution_count": null,
      "outputs": []
    },
    {
      "cell_type": "code",
      "source": [
        "import torchvision\n",
        "from torchvision import transforms\n",
        "from torch.utils.data import DataLoader\n",
        "import torch\n",
        "\n",
        "def get_data_loaders():\n",
        "    \"\"\"\n",
        "    Generate training and validation data loaders with various data augmentations.\n",
        "\n",
        "    Returns:\n",
        "        tuple: Training and validation DataLoader objects.\n",
        "    \"\"\"\n",
        "    # Normalization stats and output image size\n",
        "    norm_mean = (0.5, 0.5, 0.5)\n",
        "    norm_std = (0.5, 0.5, 0.5)\n",
        "    image_size = 32\n",
        "\n",
        "    # Define multiple transformation pipelines\n",
        "    basic_transform = transforms.Compose([\n",
        "        transforms.RandomResizedCrop(image_size),\n",
        "        transforms.ToTensor(),\n",
        "        transforms.Normalize(norm_mean, norm_std)\n",
        "    ])\n",
        "\n",
        "    horizontal_aug = transforms.Compose([\n",
        "        transforms.RandomResizedCrop(image_size),\n",
        "        transforms.RandomHorizontalFlip(),\n",
        "        transforms.ToTensor()\n",
        "    ])\n",
        "\n",
        "    vertical_aug = transforms.Compose([\n",
        "        transforms.RandomResizedCrop(image_size),\n",
        "        transforms.RandomVerticalFlip(),\n",
        "        transforms.ToTensor()\n",
        "    ])\n",
        "\n",
        "    invert_aug = transforms.Compose([\n",
        "        transforms.RandomResizedCrop(image_size),\n",
        "        transforms.RandomInvert(),\n",
        "        transforms.ToTensor()\n",
        "    ])\n",
        "\n",
        "    # Path to the dataset directory\n",
        "    data_path = \"/content/drive/MyDrive/dl-assigment-2/inaturalist_12K/train\"\n",
        "\n",
        "    # Create multiple datasets using different augmentations\n",
        "    base_dataset = torchvision.datasets.ImageFolder(root=data_path, transform=basic_transform)\n",
        "    horiz_dataset = torchvision.datasets.ImageFolder(root=data_path, transform=horizontal_aug)\n",
        "    vert_dataset = torchvision.datasets.ImageFolder(root=data_path, transform=vertical_aug)\n",
        "    invert_dataset = torchvision.datasets.ImageFolder(root=data_path, transform=invert_aug)\n",
        "\n",
        "    # Combine all datasets into a single dataset\n",
        "    combined_dataset = base_dataset + horiz_dataset + vert_dataset + invert_dataset\n",
        "\n",
        "    # Split the dataset into training and validation portions\n",
        "    split_data = split_dataset(combined_dataset)\n",
        "\n",
        "    # Prepare data loaders\n",
        "    train_loader = DataLoader(split_data['train'], batch_size=128, shuffle=True)\n",
        "    val_loader = DataLoader(split_data['val'], batch_size=128, shuffle=False)\n",
        "\n",
        "    return train_loader, val_loader\n"
      ],
      "metadata": {
        "id": "Vqkg5vPyck7O"
      },
      "execution_count": null,
      "outputs": []
    }
  ]
}